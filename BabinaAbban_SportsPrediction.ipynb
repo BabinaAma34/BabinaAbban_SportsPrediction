{
 "cells": [
  {
   "cell_type": "code",
   "execution_count": null,
   "id": "a9c9bdd6-fbf7-4d1c-976e-e1d8ba0f709d",
   "metadata": {},
   "outputs": [],
   "source": [
    "#Importing all the necessary libraries for the data traing\n",
    "import pandas as pd\n",
    "import numpy as np\n",
    "from sklearn.preprocessing import OneHotEncoder\n",
    "from sklearn.impute import SimpleImputer"
   ]
  },
  {
   "cell_type": "markdown",
   "id": "286b7e69",
   "metadata": {},
   "source": [
    "!pip show scikit-learn\n"
   ]
  },
  {
   "cell_type": "code",
   "execution_count": null,
   "id": "3ffb61b9-1d6b-4597-a875-41e36a732a88",
   "metadata": {},
   "outputs": [],
   "source": [
    "#Reading the dataset that will  be used for training the model\n",
    "data_training=pd.read_csv(r\"C:\\Users\\user\\OneDrive - Ashesi University\\Into to AI\\male_players (legacy).csv\")\n",
    "data_training"
   ]
  },
  {
   "cell_type": "code",
   "execution_count": null,
   "id": "c965110b-2c4e-4b02-96f3-3fe29ca90ca6",
   "metadata": {},
   "outputs": [],
   "source": [
    "#Printing all the columns of the dataset\n",
    "for col in data_training.columns:\n",
    "    print(col)"
   ]
  },
  {
   "cell_type": "code",
   "execution_count": null,
   "id": "877b2164-d44b-4ee7-a8b2-b1b49d9224b8",
   "metadata": {},
   "outputs": [],
   "source": [
    "#List all irrelevant columns\n",
    "irrelevant_columns = [\n",
    "    'player_id', 'club_team_id', 'club_jersey_number', 'club_name', 'short_name','long_name',\n",
    "     'club_loaned_from', 'club_joined_date', 'club_contract_valid_until_year', \n",
    "     'dob', 'nationality_name', 'nation_jersey_number', 'preferred_foot','weak_foot',\n",
    "    'international_reputation','body_type','player_url','fifa_version',\n",
    "    'fifa_update','fifa_update_date','height_cm','league_id','nationality_id',\n",
    "    'league_name','real_face','player_tags','player_traits',\n",
    "    'player_face_url']\n",
    "irrelevant_columns"
   ]
  },
  {
   "cell_type": "code",
   "execution_count": null,
   "id": "57f8401a-49b8-4d93-b81f-23691f924583",
   "metadata": {},
   "outputs": [],
   "source": [
    "#Droping  all the irrelevant  columns in the dataset for training\n",
    "data_training = data_training.drop(irrelevant_columns, axis = 1)\n",
    "data_training"
   ]
  },
  {
   "cell_type": "code",
   "execution_count": null,
   "id": "af215865-6ec4-432a-a303-7fcfd5881c40",
   "metadata": {},
   "outputs": [],
   "source": [
    "# Removing attributes with more than 30 % null values from the training data.\n",
    "test_case = 0.7 * len(data_training)\n",
    "Filtered_data_training = data_training.dropna(thresh = test_case, axis=1)\n",
    "Filtered_data_training "
   ]
  },
  {
   "cell_type": "code",
   "execution_count": null,
   "id": "eb39af60-08b7-4cde-ae82-e897d4850666",
   "metadata": {},
   "outputs": [],
   "source": [
    "#Imputing null values for  training data \n",
    "Filtered_data_training.fillna(method = 'ffill', inplace = True)\n",
    "\n"
   ]
  },
  {
   "cell_type": "code",
   "execution_count": null,
   "id": "7d302037-e5eb-4f1b-9927-9cbffc910ff2",
   "metadata": {},
   "outputs": [],
   "source": [
    "pd.options.display.max_columns=None"
   ]
  },
  {
   "cell_type": "code",
   "execution_count": null,
   "id": "74886c83-95ad-43e3-a7a2-c1fe0b69ad39",
   "metadata": {},
   "outputs": [],
   "source": [
    "Filtered_data_training"
   ]
  },
  {
   "cell_type": "code",
   "execution_count": null,
   "id": "b9deaf3a",
   "metadata": {},
   "outputs": [],
   "source": [
    "#Dropping columns that are not irrelevant for the model training\n",
    "Final_Columns_To_drop = ['defending_sliding_tackle', 'mentality_composure', 'club_position', 'skill_ball_control', 'mentality_penalties', 'movement_agility', 'lcb', 'defending_standing_tackle', 'pace', 'skill_dribbling', 'attacking_finishing', 'attacking_heading_accuracy', 'defending_marking_awareness', 'mentality_vision', 'power_long_shots', 'movement_sprint_speed', 'mentality_aggression', 'mentality_interceptions', 'power_jumping', 'attacking_short_passing', 'attacking_volleys', 'movement_acceleration', 'power_strength', 'player_positions', 'power_shot_power', 'skill_curve', 'skill_fk_accuracy', 'movement_balance', 'weight_kg', 'skill_long_passing', 'work_rate', 'skill_moves', 'rcb', 'cb', 'rwb', 'rdm', 'cdm', 'rm', 'rb', 'st', 'rcm', 'cm', 'ram', 'cam', 'rf', 'cf', 'rs', 'rw','ls', 'lw', 'lf', 'lam', 'lm', 'lcm', 'lwb', 'ldm', 'lb', 'gk']"
   ]
  },
  {
   "cell_type": "code",
   "execution_count": null,
   "id": "ae44b509",
   "metadata": {},
   "outputs": [],
   "source": [
    "Input_Training = Filtered_data_training.drop(Final_Columns_To_drop, axis = 1)\n",
    "Input_Training "
   ]
  },
  {
   "cell_type": "code",
   "execution_count": null,
   "id": "1bf23be6",
   "metadata": {},
   "outputs": [],
   "source": [
    "#Spliting the dataset into numeric and non numeric\n",
    "numeric_values=Input_Training .select_dtypes(include=np.number)\n",
    "non_numeric_values=Input_Training .select_dtypes(include=['object'])"
   ]
  },
  {
   "cell_type": "code",
   "execution_count": null,
   "id": "379f2a56-c343-44b4-81cd-5eafa767231a",
   "metadata": {},
   "outputs": [],
   "source": [
    "#Given a list of columns that needs to be encoded\n",
    "Columns_To_be_Encoded = ['player_positions', 'club_position', 'work_rate', 'ls', 'st', 'rs', 'lw',\t'lf',\t'cf', 'rf',\t'rw',\t'lam',\t'cam',\t'ram',\t'lm',\t'lcm',\t'cm',\t'rcm',\t'rm',\t'lwb',\t'ldm',\t'cdm',\t'rdm',\t'rwb',\t'lb',\t'lcb',\t'cb',\t'rcb',\t'rb',\t'gk']\n"
   ]
  },
  {
   "cell_type": "code",
   "execution_count": null,
   "id": "aa16aded-1be3-4412-b881-78bca307823c",
   "metadata": {},
   "outputs": [],
   "source": [
    "#Encoding all non numeric values in training data\n",
    "for non_numeric_column in Columns_To_be_Encoded:\n",
    "  Filtered_data_training[non_numeric_column],_=pd.factorize(Filtered_data_training[non_numeric_column])"
   ]
  },
  {
   "cell_type": "code",
   "execution_count": null,
   "id": "dd477953-c4dd-48c5-843f-df60ecfc2622",
   "metadata": {},
   "outputs": [],
   "source": [
    "#Printing dataset\n",
    "Filtered_data_training"
   ]
  },
  {
   "cell_type": "code",
   "execution_count": null,
   "id": "8b5046b5",
   "metadata": {},
   "outputs": [],
   "source": [
    "#Importing  all libraries for imputing the data\n",
    "from sklearn.experimental import enable_iterative_imputer\n",
    "from sklearn.impute import IterativeImputer\n",
    "\n",
    "imp=IterativeImputer(max_iter=10, random_state=0)\n",
    "numeric_values=pd.DataFrame(np.round(imp.fit_transform(numeric_values)), columns=numeric_values.columns)\n"
   ]
  },
  {
   "cell_type": "code",
   "execution_count": null,
   "id": "b3422ff6",
   "metadata": {},
   "outputs": [],
   "source": [
    "\n",
    "dependent_variable= numeric_values['overall']"
   ]
  },
  {
   "cell_type": "code",
   "execution_count": null,
   "id": "8a5cf387",
   "metadata": {},
   "outputs": [],
   "source": [
    "#Concatenating the numeric and non numeric datas\n",
    "independent_variables=pd.concat([numeric_values,non_numeric_values], axis=1)\n",
    "independent_variables"
   ]
  },
  {
   "cell_type": "code",
   "execution_count": null,
   "id": "5f077f78",
   "metadata": {},
   "outputs": [],
   "source": [
    "# calculate correlation of all data\n",
    "correlation_matrix = independent_variables.corr()['overall'].abs().sort_values(ascending=False)\n",
    "\n",
    "selected_features = correlation_matrix[:19]\n",
    "independent_variables = independent_variables[selected_features.index]\n",
    "independent_variables=independent_variables.drop('overall',axis=1)"
   ]
  },
  {
   "cell_type": "code",
   "execution_count": null,
   "id": "44833a58",
   "metadata": {},
   "outputs": [],
   "source": [
    "#printing the dataset\n",
    "independent_variables"
   ]
  },
  {
   "cell_type": "code",
   "execution_count": null,
   "id": "1fe8912b",
   "metadata": {},
   "outputs": [],
   "source": [
    "#Printing out the columns of the dataset\n",
    "independent_variables.columns"
   ]
  },
  {
   "cell_type": "code",
   "execution_count": null,
   "id": "530c93df",
   "metadata": {},
   "outputs": [],
   "source": [
    "\n",
    "#Importing te libraries for model training\n",
    "from sklearn.preprocessing import StandardScaler\n",
    "scaler=StandardScaler()\n",
    "independent_variables=scaler.fit_transform(independent_variables)"
   ]
  },
  {
   "cell_type": "code",
   "execution_count": null,
   "id": "cf976fd7-7c7f-45d7-b88b-e3beabacdaf5",
   "metadata": {},
   "outputs": [],
   "source": [
    "#spliting data into input_training and output training\n",
    "from sklearn.model_selection import train_test_split, cross_val_score\n",
    "from sklearn.metrics import mean_absolute_error, mean_squared_error, r2_score\n",
    "X_train,X_test, y_train,y_test=train_test_split(independent_variables,dependent_variable, test_size=0.2, random_state=42, stratify=dependent_variable)\n"
   ]
  },
  {
   "cell_type": "code",
   "execution_count": null,
   "id": "baa450e1",
   "metadata": {},
   "outputs": [],
   "source": [
    "\n",
    "from sklearn.metrics import mean_absolute_error, mean_squared_error, r2_score"
   ]
  },
  {
   "cell_type": "code",
   "execution_count": null,
   "id": "611cc4cf",
   "metadata": {},
   "outputs": [],
   "source": [
    "#First Model Training\n",
    "#Importing all necessary libraries for first model training\n",
    "from sklearn.tree import DecisionTreeRegressor\n"
   ]
  },
  {
   "cell_type": "code",
   "execution_count": null,
   "id": "927ceeb1",
   "metadata": {},
   "outputs": [],
   "source": [
    "Tree_Regressor_Model = DecisionTreeRegressor()"
   ]
  },
  {
   "cell_type": "code",
   "execution_count": null,
   "id": "afbbfe06",
   "metadata": {},
   "outputs": [],
   "source": [
    "Tree_Regressor_Model.fit(X_train, y_train)"
   ]
  },
  {
   "cell_type": "code",
   "execution_count": null,
   "id": "7bd4411f",
   "metadata": {},
   "outputs": [],
   "source": [
    "Tree_Regressor_Model_Prediction = Tree_Regressor_Model.predict(X_test)"
   ]
  },
  {
   "cell_type": "code",
   "execution_count": null,
   "id": "34424182",
   "metadata": {},
   "outputs": [],
   "source": [
    "Tree_Regressor_Model_Prediction"
   ]
  },
  {
   "cell_type": "code",
   "execution_count": null,
   "id": "8b72a5e2",
   "metadata": {},
   "outputs": [],
   "source": [
    "mae = mean_absolute_error(y_test,Tree_Regressor_Model_Prediction)\n",
    "mse = mean_squared_error(y_test,Tree_Regressor_Model_Prediction)\n",
    "r2 = r2_score(y_test,Tree_Regressor_Model_Prediction)\n",
    "\n",
    "print(mae)\n",
    "print(mse)\n",
    "print(r2)"
   ]
  },
  {
   "cell_type": "code",
   "execution_count": null,
   "id": "b6e0de63",
   "metadata": {},
   "outputs": [],
   "source": [
    "#second modle traning\n",
    "from sklearn.linear_model import LinearRegression\n"
   ]
  },
  {
   "cell_type": "code",
   "execution_count": null,
   "id": "342b7012",
   "metadata": {},
   "outputs": [],
   "source": [
    "Linear_Regressor_Model = LinearRegression()"
   ]
  },
  {
   "cell_type": "code",
   "execution_count": null,
   "id": "a1e650f4",
   "metadata": {},
   "outputs": [],
   "source": [
    "Linear_Regressor_Model.fit(X_train, y_train)"
   ]
  },
  {
   "cell_type": "code",
   "execution_count": null,
   "id": "d4a861da",
   "metadata": {},
   "outputs": [],
   "source": [
    "Linear_Regressor_Model_Prediction = Linear_Regressor_Model.predict(X_test)"
   ]
  },
  {
   "cell_type": "code",
   "execution_count": null,
   "id": "92e3e1c9",
   "metadata": {},
   "outputs": [],
   "source": [
    "Linear_Regressor_Model_Prediction"
   ]
  },
  {
   "cell_type": "code",
   "execution_count": null,
   "id": "2e16f88a",
   "metadata": {},
   "outputs": [],
   "source": [
    "mean_absolute_error(Linear_Regressor_Model_Prediction, y_test)\n",
    "mae = mean_absolute_error(y_test,Linear_Regressor_Model_Prediction)\n",
    "mse = mean_squared_error(y_test,Linear_Regressor_Model_Prediction)\n",
    "rmse = np.sqrt(mse)\n",
    "r2 = r2_score(y_test, Linear_Regressor_Model_Prediction)\n",
    "\n",
    "print(f\"Mean Absolute Error: {mae}\")\n",
    "print(f\"Mean Squared Error: {mse}\")\n",
    "print(f\"Root Mean Squared Error: {rmse}\")\n",
    "print(f\"R2 Score: {r2}\")"
   ]
  },
  {
   "cell_type": "code",
   "execution_count": null,
   "id": "c4f2c04a",
   "metadata": {},
   "outputs": [],
   "source": [
    "#Third model training\n",
    "from sklearn.linear_model import SGDRegressor\n",
    "from sklearn.metrics import mean_absolute_error, mean_squared_error, r2_score"
   ]
  },
  {
   "cell_type": "code",
   "execution_count": null,
   "id": "409d00b1",
   "metadata": {},
   "outputs": [],
   "source": [
    "model=SGDRegressor()\n",
    "model.fit(X_train,y_train)\n",
    "y_pred=model.predict(X_test)\n",
    "# Calculate and print evaluation metrics\n",
    "mae = mean_absolute_error(y_test, y_pred)\n",
    "mse = mean_squared_error(y_test, y_pred)\n",
    "rmse = np.sqrt(mse)\n",
    "r2 = r2_score(y_test, y_pred)\n",
    "\n",
    "print(f\"Mean Absolute Error: {mae}\")\n",
    "print(f\"Mean Squared Error: {mse}\")\n",
    "print(f\"Root Mean Squared Error: {rmse}\")\n",
    "print(f\"R2 Score: {r2}\")"
   ]
  },
  {
   "cell_type": "code",
   "execution_count": null,
   "id": "098f4545",
   "metadata": {},
   "outputs": [],
   "source": [
    "from sklearn.model_selection import cross_val_score\n",
    "from sklearn.tree import DecisionTreeRegressor\n",
    "from sklearn.ensemble import  GradientBoostingRegressor\n",
    "\n",
    "# Define models\n",
    "models = {\n",
    "    'DecisionTree': DecisionTreeRegressor(),\n",
    "    'LinearRegression':  LinearRegression(),\n",
    "    'SGDRegressor': SGDRegressor(),\n",
    "}\n",
    "\n",
    "# Cross-validate models\n",
    "for name, model in models.items():\n",
    "    scores = cross_val_score(model, X_train, y_train, cv=5, scoring='neg_mean_squared_error')\n",
    "    print(f\"{name} Cross-validation scores: {scores}\")\n",
    "    print(f\"{name} Average score: {scores.mean()}\")\n"
   ]
  },
  {
   "cell_type": "code",
   "execution_count": null,
   "id": "26706b12",
   "metadata": {},
   "outputs": [],
   "source": [
    "#Grid search for first model\n",
    "from sklearn.model_selection import GridSearchCV, KFold\n",
    "from sklearn.tree import DecisionTreeRegressor\n",
    "from sklearn.metrics import mean_squared_error, r2_score\n",
    "import numpy as np\n",
    "import pickle as pkl\n",
    "\n",
    "# Creating  KFold cross-validator\n",
    "cv = KFold(n_splits=3)\n",
    "\n",
    "# Defining  the model\n",
    "gb = DecisionTreeRegressor()\n",
    "\n",
    "# Defining the parameter grid\n",
    "PARAMETERS_gb = {\n",
    "    \"max_depth\": [2, 5, 6, 12],\n",
    "    \"min_samples_leaf\": [1, 5, 10],\n",
    "    \"min_samples_split\": [2, 5, 10]\n",
    "}\n",
    "\n",
    "# Setting up the grid search\n",
    "model_gs = GridSearchCV(estimator=gb, param_grid=PARAMETERS_gb, cv=cv, scoring=\"neg_mean_squared_error\")\n",
    "\n",
    "# Fiting  the grid search to the training data\n",
    "model_gs.fit(X_train, y_train)\n",
    "\n",
    "# Saving  the model\n",
    "pkl.dump(model_gs, open(\"model.pkl\", 'wb'))\n",
    "\n",
    "# Making  predictions on the test set\n",
    "y_pred = model_gs.predict(X_test)\n",
    "\n",
    "# Calculating evaluation metrics\n",
    "mse = mean_squared_error(y_test, y_pred)\n",
    "rmse = np.sqrt(mse)\n",
    "r2 = r2_score(y_test, y_pred)\n",
    "\n",
    "print(f\"Mean Squared Error: {mse}\")\n",
    "print(f\"Root Mean Squared Error: {rmse}\")\n",
    "print(f\"R2 Score: {r2}\")\n",
    "\n",
    "# Print the best parameters and score\n",
    "print(\"Best Parameters:\", model_gs.best_params_)\n",
    "print(\"Best Score:\", model_gs.best_score_)\n"
   ]
  },
  {
   "cell_type": "code",
   "execution_count": null,
   "id": "72500aa2",
   "metadata": {},
   "outputs": [],
   "source": [
    "final_dt_model=model_gs.best_estimator_\n"
   ]
  },
  {
   "cell_type": "code",
   "execution_count": null,
   "id": "1d086e8e",
   "metadata": {},
   "outputs": [],
   "source": [
    "#Grid search for Second model\n",
    "from sklearn.model_selection import GridSearchCV, KFold\n",
    "from sklearn.linear_model import LinearRegression\n",
    "from sklearn.metrics import mean_squared_error, r2_score\n",
    "import pickle as pkl\n",
    "\n",
    "# Creating the KFold cross-validator\n",
    "cv = KFold(n_splits=3)\n",
    "\n",
    "# Defining  the model\n",
    "lr = LinearRegression()\n",
    "\n",
    "\n",
    "PARAMETERS_lr = {\n",
    "    \n",
    "    'fit_intercept': [True, False],\n",
    "}\n",
    "\n",
    "# Setting up the grid search\n",
    "model_gs = GridSearchCV(estimator=lr, param_grid=PARAMETERS_lr, cv=cv, scoring=\"neg_mean_squared_error\")\n",
    "\n",
    "# Fit the grid search to the training data\n",
    "model_gs.fit(X_train, y_train)\n",
    "\n",
    "\n",
    "# Making  predictions on the test set\n",
    "y_pred = model_gs.predict(X_test)\n",
    "\n",
    "# Calculating evaluation metrics\n",
    "mse = mean_squared_error(y_test, y_pred)\n",
    "rmse = np.sqrt(mse)\n",
    "r2 = r2_score(y_test, y_pred)\n",
    "\n",
    "print(f\"Mean Squared Error: {mse}\")\n",
    "print(f\"Root Mean Squared Error: {rmse}\")\n",
    "print(f\"R2 Score: {r2}\")\n",
    "\n",
    "# Printing  the best parameters and score\n",
    "print(\"Best Parameters:\", model_gs.best_params_)\n",
    "print(\"Best Score:\", model_gs.best_score_)\n",
    "\n"
   ]
  },
  {
   "cell_type": "code",
   "execution_count": null,
   "id": "fbe47d03",
   "metadata": {},
   "outputs": [],
   "source": [
    "final_lr_model=model_gs.best_estimator_"
   ]
  },
  {
   "cell_type": "code",
   "execution_count": null,
   "id": "4deb19d2",
   "metadata": {},
   "outputs": [],
   "source": [
    "from sklearn.linear_model import SGDRegressor\n",
    "from sklearn.model_selection import GridSearchCV, KFold\n",
    "from sklearn.metrics import mean_squared_error, r2_score\n",
    "import numpy as np\n",
    "\n",
    "\n",
    "# Creating the  KFold cross-validator\n",
    "cv = KFold(n_splits=3)\n",
    "\n",
    "# Defining  the model\n",
    "sgd = SGDRegressor()\n",
    "\n",
    "# Defining  the parameter grid\n",
    "PARAMETERS_sgd = {\n",
    "    'alpha': [0.0001, 0.001, 0.01, 0.1],\n",
    "    'penalty': ['l2', 'l1', 'elasticnet'],\n",
    "    'max_iter': [1200, 2200, 3200],\n",
    "    'learning_rate': ['constant', 'optimal', 'invscaling', 'adaptive'],\n",
    "    'eta0': [0.01, 0.1, 1]\n",
    "}\n",
    "\n",
    "# Setting up the grid search\n",
    "model_gs = GridSearchCV(estimator=sgd, param_grid=PARAMETERS_sgd, cv=cv, scoring='neg_mean_squared_error')\n",
    "\n",
    "# Fiting  the grid search to the training data\n",
    "model_gs.fit(X_train, y_train)\n",
    "\n",
    "# Making  predictions on the test set\n",
    "y_pred = model_gs.predict(X_test)\n",
    "\n",
    "# Calculating  evaluation metrics\n",
    "mse = mean_squared_error(y_test, y_pred)\n",
    "rmse = np.sqrt(mse)\n",
    "r2 = r2_score(y_test, y_pred)\n",
    "\n",
    "print(f\"Mean Squared Error: {mse}\")\n",
    "print(f\"Root Mean Squared Error: {rmse}\")\n",
    "print(f\"R2 Score: {r2}\")\n",
    "\n",
    "# Print the best parameters and score\n",
    "print(\"Best Parameters:\", model_gs.best_params_)\n",
    "print(\"Best Score:\", model_gs.best_score_)\n"
   ]
  },
  {
   "cell_type": "code",
   "execution_count": null,
   "id": "659f1926",
   "metadata": {},
   "outputs": [],
   "source": [
    "final_sgd_model =model_gs.best_estimator_"
   ]
  },
  {
   "cell_type": "code",
   "execution_count": null,
   "id": "53e25ab8",
   "metadata": {},
   "outputs": [],
   "source": [
    "\n",
    "#loading the dataset for testing\n",
    "data_testing=pd.read_csv(r\"C:\\Users\\user\\OneDrive - Ashesi University\\Into to AI\\players_22.csv\")\n",
    "data_testing"
   ]
  },
  {
   "cell_type": "code",
   "execution_count": null,
   "id": "e0845ce4",
   "metadata": {},
   "outputs": [],
   "source": [
    "#Droping all columns that will not be needed in the data training and testing\n",
    "columns_to_drop = ['sofifa_id', 'player_url', 'short_name', 'long_name', 'club_team_id', 'club_name', 'league_name', 'player_face_url', 'club_logo_url', 'club_flag_url', 'nation_logo_url', 'nation_flag_url', 'club_jersey_number', 'club_loaned_from', 'club_joined','club_contract_valid_until', 'nationality_id', 'nationality_name', 'nation_team_id', 'nation_jersey_number', 'preferred_foot', 'weak_foot', 'dob', 'height_cm', 'international_reputation', 'body_type', 'real_face', 'player_tags', 'player_traits']\n",
    "columns_to_drop"
   ]
  },
  {
   "cell_type": "code",
   "execution_count": null,
   "id": "d56ebcde",
   "metadata": {},
   "outputs": [],
   "source": [
    "#Droping columns that are not necessary in the dataset for testing\n",
    "data_testing = data_testing.drop(columns_to_drop, axis = 1)\n",
    "data_testing"
   ]
  },
  {
   "cell_type": "code",
   "execution_count": null,
   "id": "800e332a",
   "metadata": {},
   "outputs": [],
   "source": [
    "# Removing attributes with more than 30 % null values from the testing data.\n",
    "test_case = 0.7 * len(data_testing)\n",
    "Filtered_data_testing = data_testing.dropna(thresh =test_case, axis=1)"
   ]
  },
  {
   "cell_type": "code",
   "execution_count": null,
   "id": "56095c30",
   "metadata": {},
   "outputs": [],
   "source": [
    "Filtered_data_testing.fillna(method = 'ffill', inplace = True)"
   ]
  },
  {
   "cell_type": "code",
   "execution_count": null,
   "id": "f078a8bb",
   "metadata": {},
   "outputs": [],
   "source": [
    "#Encoding all non numeric values in testing data\n",
    "for non_numeric_column in Columns_To_be_Encoded:\n",
    "  Filtered_data_testing[non_numeric_column],_=pd.factorize(Filtered_data_testing[non_numeric_column])"
   ]
  },
  {
   "cell_type": "code",
   "execution_count": null,
   "id": "b57e9aa0",
   "metadata": {},
   "outputs": [],
   "source": [
    "Filtered_data_testing"
   ]
  },
  {
   "cell_type": "code",
   "execution_count": null,
   "id": "1c5e4c18",
   "metadata": {},
   "outputs": [],
   "source": [
    "#Given a list of columns that needs to be encoded\n",
    "Columns_To_be_Encode = ['player_positions', 'club_position', 'work_rate', 'ls', 'st', 'rs', 'lw',\t'lf',\t'cf', 'rf',\t'rw',\t'lam',\t'cam',\t'ram',\t'lm',\t'lcm',\t'cm',\t'rcm',\t'rm',\t'lwb',\t'ldm',\t'cdm',\t'rdm',\t'rwb',\t'lb',\t'lcb',\t'cb',\t'rcb',\t'rb',\t'gk']"
   ]
  },
  {
   "cell_type": "code",
   "execution_count": null,
   "id": "641fbb8a",
   "metadata": {},
   "outputs": [],
   "source": [
    "Filtered_data_testing.drop(Columns_To_be_Encode ,axis=1)"
   ]
  },
  {
   "cell_type": "code",
   "execution_count": null,
   "id": "750b6122",
   "metadata": {},
   "outputs": [],
   "source": [
    "#Spliting dataset into non_numeric and numeric \n",
    "numeric_data=Input_Training .select_dtypes(include=np.number)\n",
    "non_numeric_data=Input_Training .select_dtypes(include=['object'])"
   ]
  },
  {
   "cell_type": "code",
   "execution_count": null,
   "id": "baa3ffad",
   "metadata": {},
   "outputs": [],
   "source": [
    "#Importing the libraries for model imputing\n",
    "from sklearn.experimental import enable_iterative_imputer\n",
    "from sklearn.impute import IterativeImputer\n",
    "imp=IterativeImputer(max_iter=10, random_state=0)\n",
    "numeric_data=pd.DataFrame(np.round(imp.fit_transform(numeric_data)), columns=numeric_data.columns)\n"
   ]
  },
  {
   "cell_type": "code",
   "execution_count": null,
   "id": "a1feb297",
   "metadata": {},
   "outputs": [],
   "source": [
    "Y= numeric_data['overall']"
   ]
  },
  {
   "cell_type": "code",
   "execution_count": null,
   "id": "55ae736c",
   "metadata": {},
   "outputs": [],
   "source": [
    "#Concatenating the numeric and non_numeric data\n",
    "X=pd.concat([numeric_data,non_numeric_data], axis=1)\n",
    "X"
   ]
  },
  {
   "cell_type": "code",
   "execution_count": null,
   "id": "1476c01a",
   "metadata": {},
   "outputs": [],
   "source": [
    "# calculating the  correlation of all data\n",
    "correlation_matrix = X.corr()['overall'].abs().sort_values(ascending=False)\n",
    "\n",
    "selected_features = correlation_matrix[:19]\n",
    "X = X[selected_features.index]\n",
    "X=X.drop('overall',axis=1)"
   ]
  },
  {
   "cell_type": "code",
   "execution_count": null,
   "id": "82690b64",
   "metadata": {},
   "outputs": [],
   "source": [
    "X.columns"
   ]
  },
  {
   "cell_type": "code",
   "execution_count": null,
   "id": "a7353a0d",
   "metadata": {},
   "outputs": [],
   "source": [
    "\n",
    "#Importing libraries for Scaling\n",
    "from sklearn.preprocessing import StandardScaler\n",
    "scaler=StandardScaler()\n",
    "X=scaler.fit_transform(X)"
   ]
  },
  {
   "cell_type": "code",
   "execution_count": null,
   "id": "16b99cac",
   "metadata": {},
   "outputs": [],
   "source": [
    "#spliting data into input_training and output training\n",
    "X_train,X_test, y_train,y_test=train_test_split(X,Y, test_size=0.2, random_state=42, stratify=Y)\n"
   ]
  },
  {
   "cell_type": "code",
   "execution_count": null,
   "id": "59e28430",
   "metadata": {},
   "outputs": [],
   "source": [
    "final_dt_model.fit(X_train, y_train)"
   ]
  },
  {
   "cell_type": "code",
   "execution_count": null,
   "id": "292128e3",
   "metadata": {},
   "outputs": [],
   "source": [
    "DecisionTree_Regressor_Model_Prediction = final_dt_model.predict(X_test)"
   ]
  },
  {
   "cell_type": "code",
   "execution_count": null,
   "id": "7a9be765",
   "metadata": {},
   "outputs": [],
   "source": [
    "DecisionTree_Regressor_Model_Prediction"
   ]
  },
  {
   "cell_type": "code",
   "execution_count": null,
   "id": "0b8c65b6",
   "metadata": {},
   "outputs": [],
   "source": [
    "mae = mean_absolute_error(y_test,DecisionTree_Regressor_Model_Prediction)\n",
    "mse = mean_squared_error(y_test,DecisionTree_Regressor_Model_Prediction)\n",
    "rmse = np.sqrt(mse)\n",
    "r2 = r2_score(y_test, DecisionTree_Regressor_Model_Prediction)\n",
    "\n",
    "print(f\"Mean Absolute Error: {mae}\")\n",
    "print(f\"Mean Squared Error: {mse}\")\n",
    "print(f\"Root Mean Squared Error: {rmse}\")\n",
    "print(f\"R2 Score: {r2}\")"
   ]
  },
  {
   "cell_type": "code",
   "execution_count": null,
   "id": "54834d8c",
   "metadata": {},
   "outputs": [],
   "source": [
    "final_lr_model.fit(X_train, y_train)"
   ]
  },
  {
   "cell_type": "code",
   "execution_count": null,
   "id": "a855b605",
   "metadata": {},
   "outputs": [],
   "source": [
    "Linear_Regressor_Model_Prediction = final_lr_model.predict(X_test)"
   ]
  },
  {
   "cell_type": "code",
   "execution_count": null,
   "id": "192e177f",
   "metadata": {},
   "outputs": [],
   "source": [
    "mae = mean_absolute_error(y_test,Linear_Regressor_Model_Prediction)\n",
    "mse = mean_squared_error(y_test,Linear_Regressor_Model_Prediction)\n",
    "r2 = r2_score(y_test,Linear_Regressor_Model_Prediction)\n",
    "\n",
    "print(f\"Mean Absolute Error: {mae}\")\n",
    "print(f\"Mean Squared Error: {mse}\")\n",
    "print(f\"Root Mean Squared Error: {rmse}\")\n",
    "print(f\"R2 Score: {r2}\")"
   ]
  },
  {
   "cell_type": "code",
   "execution_count": null,
   "id": "5e278a00",
   "metadata": {},
   "outputs": [],
   "source": [
    "import joblib \n",
    "joblib.dump(final_dt_model, 'my_models.pkl')"
   ]
  },
  {
   "cell_type": "code",
   "execution_count": null,
   "id": "274084c0",
   "metadata": {},
   "outputs": [],
   "source": []
  }
 ],
 "metadata": {
  "kernelspec": {
   "display_name": "Python 3 (ipykernel)",
   "language": "python",
   "name": "python3"
  },
  "language_info": {
   "codemirror_mode": {
    "name": "ipython",
    "version": 3
   },
   "file_extension": ".py",
   "mimetype": "text/x-python",
   "name": "python",
   "nbconvert_exporter": "python",
   "pygments_lexer": "ipython3",
   "version": "3.11.7"
  }
 },
 "nbformat": 4,
 "nbformat_minor": 5
}
